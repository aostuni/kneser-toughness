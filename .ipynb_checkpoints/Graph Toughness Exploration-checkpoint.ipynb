{
 "cells": [
  {
   "cell_type": "markdown",
   "metadata": {},
   "source": [
    "# Graph Toughness Exploration"
   ]
  },
  {
   "cell_type": "markdown",
   "metadata": {},
   "source": [
    "This code is designed to calculate the toughness $t(G)$ of a connected graph. There is particular interest in the Kneser graph $K(n,k)$. We will use the [NetworkX](https://networkx.github.io/documentation/stable/index.html) package to manage our graphs. "
   ]
  },
  {
   "cell_type": "code",
   "execution_count": 14,
   "metadata": {},
   "outputs": [],
   "source": [
    "from itertools import chain, combinations\n",
    "from tqdm.notebook import tqdm\n",
    "\n",
    "import itertools\n",
    "import math\n",
    "import numpy as np\n",
    "import networkx as nx"
   ]
  },
  {
   "cell_type": "markdown",
   "metadata": {},
   "source": [
    "A graph can be create with the following function."
   ]
  },
  {
   "cell_type": "code",
   "execution_count": 15,
   "metadata": {},
   "outputs": [],
   "source": [
    "def create_graph(vertices, edges):\n",
    "    G = nx.Graph()\n",
    "    G.add_nodes_from(vertices)\n",
    "    G.add_edges_from(edges)\n",
    "    return G"
   ]
  },
  {
   "cell_type": "markdown",
   "metadata": {},
   "source": [
    "## Toughness Calculator\n",
    "\n",
    "To calculate a graph's toughness, we must determine the ratio of vertex-cut size to the number of resulting components over all possible vertex-cuts. We'll use NetworkX's `number_connected_components` function to calculate the number of components, and create our own function to determine all viable vertex-cuts. The set of all viable vertex-cuts is depending on the powerset, so we define that below. We'll also define an efficient function for the binomial coefficient, as it will be useful later."
   ]
  },
  {
   "cell_type": "code",
   "execution_count": 16,
   "metadata": {},
   "outputs": [],
   "source": [
    "def choose(n, k):\n",
    "    '''\n",
    "    A fast way to calculate binomial coefficients by Andrew Dalke\n",
    "    '''\n",
    "    if 0 <= k <= n:\n",
    "        ntok = 1\n",
    "        ktok = 1\n",
    "        for t in range(1, min(k, n - k) + 1):\n",
    "            ntok *= n\n",
    "            ktok *= t\n",
    "            n -= 1\n",
    "        return ntok // ktok\n",
    "    else:\n",
    "        return 0"
   ]
  },
  {
   "cell_type": "markdown",
   "metadata": {},
   "source": [
    "For the modified powerset `powerset_range`, you can specify to only get all subsets of a given size. The `lower` and `upper` parameters are inclusive."
   ]
  },
  {
   "cell_type": "code",
   "execution_count": 53,
   "metadata": {},
   "outputs": [],
   "source": [
    "def powerset_range(V, lower, upper):\n",
    "    '''\n",
    "    By Mark Rushakoff, modified\n",
    "    '''\n",
    "    if lower < 0:\n",
    "        lower = 0\n",
    "    if upper > len(V):\n",
    "        upper = len(V)\n",
    "    \n",
    "    lower = math.ceil(lower)\n",
    "    upper = math.floor(upper + 1)\n",
    "    s = list(V)\n",
    "    return chain.from_iterable(combinations(s, r) for r in range(lower, upper))"
   ]
  },
  {
   "cell_type": "code",
   "execution_count": 54,
   "metadata": {},
   "outputs": [],
   "source": [
    "def powerset(V):\n",
    "    return powerset_range(V, 0, len(V))"
   ]
  },
  {
   "cell_type": "markdown",
   "metadata": {},
   "source": [
    "Our final step is to calculate the desired ratio over all subsets of $V(G)$, returning the minimum value (i.e. the toughness). Note that this code uses a brute-force method with exponential runtime, so it may be infeasible to run for anything other than small graphs. Additionally, note that on account of the \"walrus operator\" `:=` used, Python 3.8 or higher is required to run this function.\n",
    "\n",
    "The situation may arise where by mathematical analysis, we can determine that the toughness will come from a particular range of vertex cut sizes, so there are optional arguments to specify such a range if it is known. These lower and upper bounds are inclusive.\n",
    "\n",
    "Additionally, we assume (potentially incorrectly) that networkx's `subgraph` function is faster than trying to either remove and re-add a vertex set or copy the graph and then remove the appropriate vertices. Hence, we think about vertex cuts as what vertices are excluded from a subgraph."
   ]
  },
  {
   "cell_type": "code",
   "execution_count": 52,
   "metadata": {},
   "outputs": [],
   "source": [
    "def count_iterations(order, lower, upper):\n",
    "    if lower < 0:\n",
    "        lower = 0\n",
    "    if upper > order:\n",
    "        upper = order\n",
    "    \n",
    "    lower = math.ceil(lower)\n",
    "    upper = math.floor(upper + 1)\n",
    "    return sum([choose(order, val) for val in range(lower, upper)])        "
   ]
  },
  {
   "cell_type": "code",
   "execution_count": 74,
   "metadata": {},
   "outputs": [],
   "source": [
    "def toughness(G, vcut_lower=1, vcut_upper=np.inf):\n",
    "    order = G.order()\n",
    "    if order == 0:\n",
    "        raise nx.NetworkXPointlessConcept('Toughness is not defined for the null graph')\n",
    "    if not nx.is_connected(G):\n",
    "        raise nx.NetworkXException('Toughness is only defined for connected graphs')\n",
    "\n",
    "    lower = order - vcut_upper\n",
    "    upper = order - vcut_lower\n",
    "    subgraphs = powerset_range(G.nodes(), lower, upper)\n",
    "    num_subgraphs = count_iterations(order, lower, upper)\n",
    "    \n",
    "    try:\n",
    "        return min([(order - len(S)) / comp for S in tqdm(subgraphs, total=num_subgraphs)\n",
    "                    if (comp := nx.number_connected_components(G.subgraph(S))) > 1])\n",
    "    except:\n",
    "        return np.inf"
   ]
  },
  {
   "cell_type": "markdown",
   "metadata": {},
   "source": [
    "We'll now compare the toughness calculator results with well-known results."
   ]
  },
  {
   "cell_type": "code",
   "execution_count": 67,
   "metadata": {},
   "outputs": [
    {
     "data": {
      "application/vnd.jupyter.widget-view+json": {
       "model_id": "49ca07463fa34b30972866e085f194ed",
       "version_major": 2,
       "version_minor": 0
      },
      "text/plain": [
       "HBox(children=(FloatProgress(value=0.0, max=1023.0), HTML(value='')))"
      ]
     },
     "metadata": {},
     "output_type": "display_data"
    },
    {
     "name": "stdout",
     "output_type": "stream",
     "text": [
      "\n",
      "1.3333333333333333\n"
     ]
    },
    {
     "data": {
      "application/vnd.jupyter.widget-view+json": {
       "model_id": "5fc6daa3544249f4bb46d66a435b17b7",
       "version_major": 2,
       "version_minor": 0
      },
      "text/plain": [
       "HBox(children=(FloatProgress(value=0.0, max=63.0), HTML(value='')))"
      ]
     },
     "metadata": {},
     "output_type": "display_data"
    },
    {
     "name": "stdout",
     "output_type": "stream",
     "text": [
      "\n",
      "0.2\n"
     ]
    },
    {
     "data": {
      "application/vnd.jupyter.widget-view+json": {
       "model_id": "2a54fa5d028d4758b2b1a7f4347e0777",
       "version_major": 2,
       "version_minor": 0
      },
      "text/plain": [
       "HBox(children=(FloatProgress(value=0.0, max=31.0), HTML(value='')))"
      ]
     },
     "metadata": {},
     "output_type": "display_data"
    },
    {
     "name": "stdout",
     "output_type": "stream",
     "text": [
      "\n",
      "inf\n"
     ]
    }
   ],
   "source": [
    "print(toughness(nx.petersen_graph()))\n",
    "print(toughness(nx.star_graph(5)))\n",
    "print(toughness(nx.complete_graph(5)))\n",
    "# print(toughness(nx.null_graph())) # tests the null exception\n",
    "# print(toughness(nx.empty_graph(6))) # tests the disconnected exception"
   ]
  },
  {
   "cell_type": "markdown",
   "metadata": {},
   "source": [
    "## Kneser Graph"
   ]
  },
  {
   "cell_type": "markdown",
   "metadata": {},
   "source": [
    "Now that our toughness calculator appears to be working, we can focus on the toughness of the Kneser graph $K(n,k)$. Recall $K(n,k)$ is the graph whose vertices correspond to the $k$-element subsets of a set of $n$ elements, where two vertices are adjacent if and only if the two corresponding sets are disjoint."
   ]
  },
  {
   "cell_type": "code",
   "execution_count": 20,
   "metadata": {},
   "outputs": [],
   "source": [
    "def kneser(n, k):\n",
    "    if n <= 2*k:\n",
    "        raise nx.NetworkXException('The Kneser graph of these parameters is disconnected (toughness undefined).')\n",
    "    vertices = [v for v in itertools.combinations(range(1, n+1), k)]\n",
    "    edges = [(v1, v2) for (v1, v2) in itertools.combinations(vertices, 2) if set(v1).isdisjoint(set(v2))]\n",
    "    return create_graph(vertices, edges)"
   ]
  },
  {
   "cell_type": "markdown",
   "metadata": {},
   "source": [
    "We'll check that the produced Kneser graph is as expected with $K(5,2) \\cong P$, the Petersen graph."
   ]
  },
  {
   "cell_type": "code",
   "execution_count": 21,
   "metadata": {},
   "outputs": [
    {
     "name": "stdout",
     "output_type": "stream",
     "text": [
      "True\n"
     ]
    }
   ],
   "source": [
    "print(nx.is_isomorphic(kneser(5,2), nx.petersen_graph()))"
   ]
  },
  {
   "cell_type": "markdown",
   "metadata": {},
   "source": [
    "By some analysis using the Erdos-Ko-Rado and Hilton-Milner theorems, the toughness \n",
    "\n",
    "$t(K(n,k)) =$ min$(\\frac{n}{k}-1$, min$(\\frac{|S|}{|c(K(n,k)-S)|}$ where $\\binom{n-k}{k} + 1 \\le |S| \\le (\\frac{n}{k}-1)[\\binom{n-1}{k-1} - \\binom{n-k-1}{k-1}+1]))$"
   ]
  },
  {
   "cell_type": "code",
   "execution_count": 68,
   "metadata": {},
   "outputs": [],
   "source": [
    "def kneser_toughness(n, k):\n",
    "    lower = choose(n-k, k)+1\n",
    "    upper = (n/k - 1) * (choose(n-1, k-1) - choose(n-k-1, k-1) + 1)\n",
    "    return min(n/k - 1, toughness(kneser(n,k), lower, upper))"
   ]
  },
  {
   "cell_type": "markdown",
   "metadata": {},
   "source": [
    "Testing, we find that applying these bounds reduces the necessary number of iterations in the case of $K(5,2)$."
   ]
  },
  {
   "cell_type": "code",
   "execution_count": 75,
   "metadata": {},
   "outputs": [
    {
     "data": {
      "application/vnd.jupyter.widget-view+json": {
       "model_id": "5cbaa3ecdd3a4f9cb204adb6c581bb7f",
       "version_major": 2,
       "version_minor": 0
      },
      "text/plain": [
       "HBox(children=(FloatProgress(value=0.0, max=1023.0), HTML(value='')))"
      ]
     },
     "metadata": {},
     "output_type": "display_data"
    },
    {
     "name": "stdout",
     "output_type": "stream",
     "text": [
      "\n",
      "1.3333333333333333\n"
     ]
    },
    {
     "data": {
      "application/vnd.jupyter.widget-view+json": {
       "model_id": "395e10ec8cb74e0398d346b70eb98e1e",
       "version_major": 2,
       "version_minor": 0
      },
      "text/plain": [
       "HBox(children=(FloatProgress(value=0.0, max=210.0), HTML(value='')))"
      ]
     },
     "metadata": {},
     "output_type": "display_data"
    },
    {
     "name": "stdout",
     "output_type": "stream",
     "text": [
      "\n",
      "1.3333333333333333\n"
     ]
    }
   ],
   "source": [
    "print(toughness(kneser(5,2)))\n",
    "print(kneser_toughness(5,2))"
   ]
  },
  {
   "cell_type": "code",
   "execution_count": 25,
   "metadata": {},
   "outputs": [],
   "source": [
    "def count_kneser_iterations(n, k):\n",
    "    order = choose(n, k)\n",
    "    lower = choose(n-k, k)+1\n",
    "    upper = math.floor((n/k - 1) * (choose(n-1, k-1) - choose(n-k-1, k-1) + 1))\n",
    "    return count_iterations(order, lower, upper)"
   ]
  }
 ],
 "metadata": {
  "kernelspec": {
   "display_name": "Python 3",
   "language": "python",
   "name": "python3"
  },
  "language_info": {
   "codemirror_mode": {
    "name": "ipython",
    "version": 3
   },
   "file_extension": ".py",
   "mimetype": "text/x-python",
   "name": "python",
   "nbconvert_exporter": "python",
   "pygments_lexer": "ipython3",
   "version": "3.7.3"
  }
 },
 "nbformat": 4,
 "nbformat_minor": 2
}
