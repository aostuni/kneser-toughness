{
 "cells": [
  {
   "cell_type": "code",
   "execution_count": 1,
   "metadata": {},
   "outputs": [],
   "source": [
    "import itertools\n",
    "import math\n",
    "import numpy as np\n",
    "import networkx as nx\n",
    "import numba\n",
    "import time\n",
    "import matplotlib.pyplot as plt"
   ]
  },
  {
   "cell_type": "code",
   "execution_count": 2,
   "metadata": {},
   "outputs": [],
   "source": [
    "# Global constants here\n",
    "f9_4 = {1: 5,\n",
    "       2: 8,\n",
    "       6: 18,\n",
    "       7: 21,\n",
    "       8: 22,\n",
    "       9: 25,\n",
    "       10: 26,\n",
    "       11: 31,\n",
    "       12: 32,\n",
    "       13: 33,\n",
    "       14: 34,\n",
    "       15: 31,\n",
    "       16: 32,\n",
    "       17: 33}\n",
    "\n",
    "f10_4 = {1: 15,\n",
    "        2: 28,\n",
    "        4: 52,\n",
    "        5: 63,\n",
    "        6: 72,\n",
    "        7: 72,\n",
    "        8: 72}"
   ]
  },
  {
   "cell_type": "markdown",
   "metadata": {},
   "source": [
    "# Utils"
   ]
  },
  {
   "cell_type": "code",
   "execution_count": 37,
   "metadata": {},
   "outputs": [],
   "source": [
    "# @numba.njit()\n",
    "def choose(n, k):\n",
    "    '''\n",
    "    A fast way to calculate binomial coefficients by Andrew Dalke\n",
    "    '''\n",
    "    if 0 <= k <= n:\n",
    "        ntok = 1\n",
    "        ktok = 1\n",
    "        for t in range(1, min(k, n - k) + 1):\n",
    "            ntok *= n\n",
    "            ktok *= t\n",
    "            n -= 1\n",
    "        return ntok // ktok\n",
    "    else:\n",
    "        return 0\n",
    "\n",
    "def __integer_partition__(n, k):\n",
    "    '''\n",
    "    Returns the partitions of n into exactly k parts\n",
    "    '''\n",
    "    def _part(n, k, pre):\n",
    "        if n <= 0:\n",
    "            return []\n",
    "        if k == 1:\n",
    "            if n <= pre:\n",
    "                return [[n]]\n",
    "            return []\n",
    "        ret = []\n",
    "        for i in range(min(pre, n), 0, -1):\n",
    "            ret += [[i] + sub for sub in _part(n-i, k-1, i)]\n",
    "        return ret\n",
    "    return _part(n, k, n)\n",
    "\n",
    "\n",
    "\n",
    "def composed_of(arr1, arr2):\n",
    "    '''\n",
    "    Returns True if and only if None of arr1 elements are in arr2 else returns false\n",
    "    '''\n",
    "    for elem in arr1:\n",
    "        if elem in arr2:\n",
    "            return False\n",
    "    return True"
   ]
  },
  {
   "cell_type": "markdown",
   "metadata": {},
   "source": [
    "# Kneser Related"
   ]
  },
  {
   "cell_type": "code",
   "execution_count": 32,
   "metadata": {},
   "outputs": [],
   "source": [
    "def kneser_girth(n, k):\n",
    "    '''\n",
    "     Returns the girth of the Kneser graph\n",
    "    '''\n",
    "    g = 6 if n == 2*k + 1 else 4\n",
    "    expr = 2 * np.ceil(k / (n - 2*k)) + 1\n",
    "    return int(np.minimum(g, expr))\n",
    "\n",
    "\n",
    "\n",
    "def U(n, k, c, S):\n",
    "    '''\n",
    "    Upper Bound on crossing edges e(S\\K(n, k)) obtained from the Laplacian Eigenvalues\n",
    "    '''\n",
    "    deg = choose(n - k, k)\n",
    "    vertices = choose(n, k)\n",
    "    last_laplacian_eval = (deg + choose(n - k - 1, k - 1))    \n",
    "    return int(np.minimum(deg*S, np.floor((last_laplacian_eval * S * (vertices - S)) / (vertices))))\n",
    "\n",
    "\n",
    "\n",
    "def a(n, k, c, S):\n",
    "    '''\n",
    "    Lower bound on the possible number of singletons in c components\n",
    "    '''\n",
    "    deg = choose(n - k, k)\n",
    "    return int(np.ceil((-2*c + 2*c*deg - U(n, k, c, S)) / (deg - 2)))\n",
    "\n",
    "\n",
    "\n",
    "def f(n, k, S):\n",
    "    '''\n",
    "    Piecewise (increasing) function which provides a lower bound on the number of edges\n",
    "    from a single component to S\n",
    "    '''\n",
    "    deg = choose(n - k, k)\n",
    "    vertices = choose(n, k)\n",
    "    second_laplacian_eval = deg - np.power(-1,2%2) * choose(n - k - 2, k - 2)\n",
    "    if(n == 10 and k == 4):\n",
    "        if(f10_4.get(S) == None):\n",
    "            if(S >= 96):\n",
    "                return 470\n",
    "        else:\n",
    "            return f10_4.get(S)\n",
    "    if(n == 9 and k == 4 and f9_4.get(S) != None):\n",
    "        return f9_4.get(S)    \n",
    "    return int(np.minimum(deg*S, np.ceil(second_laplacian_eval * S * (vertices - S)/(vertices))))\n",
    "\n",
    "\n",
    "\n",
    "def l(n, k, part):\n",
    "    '''\n",
    "    Sums up all the possible lower bounds for edges for each component in the partition list\n",
    "    '''\n",
    "    return np.sum(np.vectorize(f)(n,k,part))\n",
    "\n",
    "\n",
    "\n",
    "def P(n, k, c):\n",
    "    S = int(np.ceil((n/k - 1) * c) - 1)\n",
    "    deg = choose(n - k, k)\n",
    "    comps = a(n,k,c,S)\n",
    "    vertices = choose(n, k)\n",
    "    girth = kneser_girth(n, k) \n",
    "    lim = U(n,k,c,S) - int(deg * comps)\n",
    "    \n",
    "    print('n = %d, k = %d, c = %d, S = %d, a = %d, vertices = %d, degree = %d, limit = %d'%(n,k,c,S,comps,vertices,deg,lim))    \n",
    "    print('Partition %d, into exactly %d parts'%(int(vertices - S - comps), int(c - comps)))\n",
    "    partition_lst = __integer_partition__(int(vertices - S - comps), int(c - comps))\n",
    "    \n",
    "    lst = []\n",
    "    for i in range(len(partition_lst)):\n",
    "        lval = l(n,k,partition_lst[i])\n",
    "        if(lval <= lim and (len(partition_lst[i]) <= int(c - comps)) and composed_of(list(range(3, girth)),partition_lst[i])==True):\n",
    "            lst.append(partition_lst[i])\n",
    "    print('Selected %d out of %d total partitions\\n'%(len(lst), len(partition_lst)))\n",
    "    print(*lst, sep='\\n')"
   ]
  },
  {
   "cell_type": "code",
   "execution_count": 38,
   "metadata": {
    "scrolled": false
   },
   "outputs": [
    {
     "name": "stdout",
     "output_type": "stream",
     "text": [
      "n = 10, k = 4, c = 74, S = 110, a = 59, vertices = 210, degree = 15, limit = 424\n",
      "Partition 41, into exactly 15 parts\n",
      "Selected 1 out of 2297 total partitions\n",
      "\n",
      "[27, 1, 1, 1, 1, 1, 1, 1, 1, 1, 1, 1, 1, 1, 1]\n"
     ]
    }
   ],
   "source": [
    "P(10,4,74)\n",
    "# 424\n",
    "# l(10,4,[23, 5, 1, 1, 1, 1, 1, 1, 1, 1, 1, 1, 1, 1, 1])\n",
    "# The lval is greater than limit"
   ]
  },
  {
   "cell_type": "markdown",
   "metadata": {},
   "source": [
    "### K(10,4) for 57 $\\leq$ c $\\leq$ 75"
   ]
  },
  {
   "cell_type": "code",
   "execution_count": 35,
   "metadata": {},
   "outputs": [],
   "source": [
    "for i in range(57,75 + 1):\n",
    "    print('*'*50,i,'*'*50)\n",
    "    start = time.time()\n",
    "    P(10,4,i)\n",
    "    end = time.time()\n",
    "    print('Time = %.5f seconds'%(end-start))"
   ]
  },
  {
   "cell_type": "markdown",
   "metadata": {},
   "source": [
    "### K(9,4) for 41 $\\leq$ c $\\leq$ 53"
   ]
  },
  {
   "cell_type": "code",
   "execution_count": null,
   "metadata": {},
   "outputs": [],
   "source": [
    "for i in range(41,53 + 1):\n",
    "    print('*'*50,i,'*'*50)\n",
    "    start = time.time()\n",
    "    P(9,4,i)\n",
    "    end = time.time()\n",
    "    print('Time = %.5f seconds'%(end-start))"
   ]
  },
  {
   "cell_type": "code",
   "execution_count": null,
   "metadata": {},
   "outputs": [],
   "source": []
  }
 ],
 "metadata": {
  "kernelspec": {
   "display_name": "Python 3",
   "language": "python",
   "name": "python3"
  },
  "language_info": {
   "codemirror_mode": {
    "name": "ipython",
    "version": 3
   },
   "file_extension": ".py",
   "mimetype": "text/x-python",
   "name": "python",
   "nbconvert_exporter": "python",
   "pygments_lexer": "ipython3",
   "version": "3.7.7"
  }
 },
 "nbformat": 4,
 "nbformat_minor": 4
}
