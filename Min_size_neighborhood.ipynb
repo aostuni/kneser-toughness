{
 "cells": [
  {
   "cell_type": "code",
   "execution_count": 111,
   "metadata": {},
   "outputs": [],
   "source": [
    "import itertools"
   ]
  },
  {
   "cell_type": "code",
   "execution_count": 112,
   "metadata": {},
   "outputs": [
    {
     "name": "stdout",
     "output_type": "stream",
     "text": [
      "[{1, 2, 3, 4}, {1, 2, 3, 5}, {1, 2, 3, 6}, {1, 2, 3, 7}, {8, 1, 2, 3}] ...\n",
      "size =  330\n"
     ]
    }
   ],
   "source": [
    "tuplist = (list(itertools.combinations(list(range(1,12)), 4))) \n",
    "set_11c4 = [set(i) for i in tuplist]\n",
    "# 5 values of the 11c4 set\n",
    "print(set_11c4[0:5],'...')\n",
    "print('size = ',len(set_11c4))"
   ]
  },
  {
   "cell_type": "code",
   "execution_count": 113,
   "metadata": {},
   "outputs": [
    {
     "data": {
      "text/plain": [
       "set"
      ]
     },
     "execution_count": 113,
     "metadata": {},
     "output_type": "execute_result"
    }
   ],
   "source": [
    "# this is a 'global' variable\n",
    "edge1 = [set({1,2,3,4}),set({5,6,7,8})]\n",
    "type(edge1[0])"
   ]
  },
  {
   "cell_type": "code",
   "execution_count": 114,
   "metadata": {
    "scrolled": false
   },
   "outputs": [],
   "source": [
    "'''\n",
    "k : {1,2,3,4},....,{1,2,3,11} needs to be passed in\n",
    "returns disj_set -> list\n",
    "'''\n",
    "def find_disjoint_sets(k):\n",
    "    disj_set = []\n",
    "    for i in range(len(set_11c4)):\n",
    "        if(set_11c4[i].isdisjoint(k)):\n",
    "            disj_set.append(set_11c4[i])\n",
    "    return disj_set\n",
    "\n",
    "'''\n",
    "THIS WAS NOT USED....\n",
    "takes in 2D list and returns a 1D list containing all the unioned elements\n",
    "'''\n",
    "def union_2D_to_1D(to_be_unioned):\n",
    "    nbhd_set_lst = []\n",
    "    merged = list(itertools.chain.from_iterable(to_be_unioned))\n",
    "    for i in range(len(merged)):\n",
    "        if merged[i] not in nbhd_set_lst:\n",
    "            nbhd_set_lst.append(merged[i])\n",
    "    return nbhd_set_lst\n",
    "\n",
    "def get_vertex_4(v3,v1=edge1[0],v2=edge1[1]):\n",
    "    vertex4=[]\n",
    "    for i in range(len(set_11c4)):\n",
    "        cond1 = set_11c4[i].intersection(v1) != 0\n",
    "        cond2 = set_11c4[i].intersection(v2) != 0\n",
    "        cond3 = set_11c4[i].isdisjoint(v3)\n",
    "        if(cond1 and cond2 and cond3 ):\n",
    "            vertex4.append(set_11c4[i])\n",
    "    return vertex4 \n",
    "\n",
    "def get_vertex_5(v3,v4,v1=edge1[0],v2=edge1[1]):\n",
    "    vertex5=[]\n",
    "    for i in range(len(set_11c4)):\n",
    "        cond1 = set_11c4[i].intersection(v1) != 0\n",
    "        cond2 = set_11c4[i].intersection(v2) != 0\n",
    "        cond3 = set_11c4[i].intersection(v3) != 0\n",
    "        cond4 = set_11c4[i].intersection(v4) != 0\n",
    "        if(cond1 and cond2 and cond3 and cond4):\n",
    "            vertex5.append(set_11c4[i])\n",
    "    return vertex5\n",
    "\n",
    "def get_vertex_6(v3,v4,v5,v1=edge1[0],v2=edge1[1]):\n",
    "    vertex6=[]\n",
    "    for i in range(len(set_11c4)):\n",
    "        cond1 = set_11c4[i].intersection(v1) != 0\n",
    "        cond2 = set_11c4[i].intersection(v2) != 0\n",
    "        cond3 = set_11c4[i].intersection(v3) != 0\n",
    "        cond4 = set_11c4[i].intersection(v4) != 0\n",
    "        cond5 = set_11c4[i].isdisjoint(v5)\n",
    "        if(cond1 and cond2 and cond3 and cond4 and cond5):\n",
    "            vertex6.append(set_11c4[i])\n",
    "    return vertex6"
   ]
  },
  {
   "cell_type": "code",
   "execution_count": 115,
   "metadata": {},
   "outputs": [
    {
     "name": "stdout",
     "output_type": "stream",
     "text": [
      "[{1, 2, 3, 5}, {1, 2, 4, 5}, {1, 2, 5, 6}, {1, 2, 5, 7}, {8, 1, 2, 5}, {1, 2, 5, 9}, {1, 2, 10, 5}, {1, 2, 11, 5}, {1, 3, 4, 5}, {1, 3, 5, 6}, {1, 3, 5, 7}, {8, 1, 3, 5}, {1, 3, 5, 9}, {1, 10, 3, 5}, {11, 1, 3, 5}, {1, 4, 5, 6}, {1, 4, 5, 7}, {8, 1, 4, 5}, {1, 4, 5, 9}, {1, 10, 4, 5}, {1, 11, 4, 5}, {1, 5, 6, 7}, {8, 1, 5, 6}, {1, 5, 6, 9}, {1, 10, 5, 6}, {1, 11, 5, 6}, {8, 1, 5, 7}, {1, 5, 9, 7}, {1, 10, 5, 7}, {1, 11, 5, 7}, {8, 1, 5, 9}, {8, 1, 10, 5}, {8, 1, 11, 5}, {1, 10, 5, 9}, {1, 11, 5, 9}, {1, 10, 11, 5}]\n"
     ]
    }
   ],
   "source": [
    "vertex3 = []\n",
    "for i in range(len(set_11c4)):\n",
    "    if((1 in set_11c4[i]) and (5 in set_11c4[i])):\n",
    "        vertex3.append(set_11c4[i])\n",
    "print(vertex3)"
   ]
  },
  {
   "cell_type": "code",
   "execution_count": 116,
   "metadata": {},
   "outputs": [
    {
     "data": {
      "text/plain": [
       "36"
      ]
     },
     "execution_count": 116,
     "metadata": {},
     "output_type": "execute_result"
    }
   ],
   "source": [
    "len(vertex3)"
   ]
  },
  {
   "cell_type": "code",
   "execution_count": 117,
   "metadata": {},
   "outputs": [],
   "source": [
    "edge_2_vertex_pairs = []\n",
    "for i in range(len(vertex3)):\n",
    "    possible_vertex4 = get_vertex_4(vertex3[i])\n",
    "    edge_2_vertex_pairs.append((vertex3[i],possible_vertex4))"
   ]
  },
  {
   "cell_type": "code",
   "execution_count": 118,
   "metadata": {},
   "outputs": [
    {
     "name": "stdout",
     "output_type": "stream",
     "text": [
      "({1, 2, 3, 5}, [{8, 4, 6, 7}, {9, 4, 6, 7}, {10, 4, 6, 7}, {11, 4, 6, 7}, {8, 9, 4, 6}, {8, 10, 4, 6}, {8, 11, 4, 6}, {9, 10, 4, 6}, {9, 11, 4, 6}, {10, 11, 4, 6}, {8, 9, 4, 7}, {8, 10, 4, 7}, {8, 11, 4, 7}, {9, 10, 4, 7}, {9, 11, 4, 7}, {10, 11, 4, 7}, {8, 9, 10, 4}, {8, 9, 11, 4}, {8, 10, 11, 4}, {9, 10, 11, 4}, {8, 9, 6, 7}, {8, 10, 6, 7}, {8, 11, 6, 7}, {9, 10, 6, 7}, {9, 11, 6, 7}, {10, 11, 6, 7}, {8, 9, 10, 6}, {8, 9, 11, 6}, {8, 10, 11, 6}, {9, 10, 11, 6}, {8, 9, 10, 7}, {8, 9, 11, 7}, {8, 10, 11, 7}, {9, 10, 11, 7}, {8, 9, 10, 11}])\n"
     ]
    }
   ],
   "source": [
    "print(edge_2_vertex_pairs[0])"
   ]
  },
  {
   "cell_type": "code",
   "execution_count": 119,
   "metadata": {},
   "outputs": [],
   "source": [
    "# (edge_2_vertex_pairs[0])"
   ]
  },
  {
   "cell_type": "code",
   "execution_count": 120,
   "metadata": {
    "scrolled": false
   },
   "outputs": [],
   "source": [
    "# edge_2_vertex_pairs has length 36. with 35 possible vertices that can be attached to it\n",
    "final = []\n",
    "for i in range(len(edge_2_vertex_pairs)):\n",
    "    tup = edge_2_vertex_pairs[i]\n",
    "    for j in range(len(tup[1])):\n",
    "        v3,v4 = tup[0], tup[1][j]\n",
    "        v5 = get_vertex_5(v3,v4)\n",
    "        for k in range(len(v5)):\n",
    "            v6 = get_vertex_6(v3,v4,v5[k])\n",
    "            final.append((set({1,2,3,4}),set({5,6,7,8}),v3,v4,v5[k],v6))"
   ]
  },
  {
   "cell_type": "code",
   "execution_count": 134,
   "metadata": {
    "scrolled": false
   },
   "outputs": [
    {
     "data": {
      "text/plain": [
       "2494800"
      ]
     },
     "execution_count": 134,
     "metadata": {},
     "output_type": "execute_result"
    }
   ],
   "source": []
  },
  {
   "cell_type": "code",
   "execution_count": 128,
   "metadata": {},
   "outputs": [],
   "source": [
    "disj_set = []\n",
    "j = 3\n",
    "for a in range(len(final[j][5])):\n",
    "    for i in range(len(set_11c4)):\n",
    "        cond1 = (set_11c4[i].isdisjoint(final[j][0]))\n",
    "        cond2 = (set_11c4[i].isdisjoint(final[j][1]))\n",
    "        cond3 = (set_11c4[i].isdisjoint(final[j][2]))\n",
    "        cond4 = (set_11c4[i].isdisjoint(final[j][3]))\n",
    "        cond5 = (set_11c4[i].isdisjoint(final[j][4]))\n",
    "        cond6 = (set_11c4[i].isdisjoint(final[j][5][a]))\n",
    "        if(cond1 or cond2 or cond3 or cond4 or cond5 or cond6  ):\n",
    "            disj_set.append(set_11c4[i])\n",
    "    break"
   ]
  },
  {
   "cell_type": "code",
   "execution_count": 131,
   "metadata": {
    "scrolled": false
   },
   "outputs": [
    {
     "data": {
      "text/plain": [
       "137"
      ]
     },
     "execution_count": 131,
     "metadata": {},
     "output_type": "execute_result"
    }
   ],
   "source": [
    "len(disj_set)"
   ]
  },
  {
   "cell_type": "code",
   "execution_count": null,
   "metadata": {},
   "outputs": [],
   "source": []
  },
  {
   "cell_type": "code",
   "execution_count": null,
   "metadata": {},
   "outputs": [],
   "source": []
  }
 ],
 "metadata": {
  "kernelspec": {
   "display_name": "Python 3",
   "language": "python",
   "name": "python3"
  },
  "language_info": {
   "codemirror_mode": {
    "name": "ipython",
    "version": 3
   },
   "file_extension": ".py",
   "mimetype": "text/x-python",
   "name": "python",
   "nbconvert_exporter": "python",
   "pygments_lexer": "ipython3",
   "version": "3.6.7"
  }
 },
 "nbformat": 4,
 "nbformat_minor": 2
}
