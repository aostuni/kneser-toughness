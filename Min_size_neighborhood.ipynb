{
 "cells": [
  {
   "cell_type": "code",
   "execution_count": 1,
   "metadata": {},
   "outputs": [],
   "source": [
    "import itertools"
   ]
  },
  {
   "cell_type": "code",
   "execution_count": 2,
   "metadata": {},
   "outputs": [
    {
     "name": "stdout",
     "output_type": "stream",
     "text": [
      "[{1, 2, 3, 4}, {1, 2, 3, 5}, {1, 2, 3, 6}, {1, 2, 3, 7}, {8, 1, 2, 3}] ...\n",
      "size =  330\n"
     ]
    }
   ],
   "source": [
    "tuplist = (list(itertools.combinations(list(range(1,12)), 4))) \n",
    "set_11c4 = [set(i) for i in tuplist]\n",
    "# 5 values of the 11c4 set\n",
    "print(set_11c4[0:5],'...')\n",
    "print('size = ',len(set_11c4))"
   ]
  },
  {
   "cell_type": "code",
   "execution_count": 3,
   "metadata": {},
   "outputs": [
    {
     "data": {
      "text/plain": [
       "set"
      ]
     },
     "execution_count": 3,
     "metadata": {},
     "output_type": "execute_result"
    }
   ],
   "source": [
    "# this is a 'global' variable\n",
    "edge1 = [set({1,2,3,4}),set({5,6,7,8})]\n",
    "type(edge1[0])"
   ]
  },
  {
   "cell_type": "code",
   "execution_count": 4,
   "metadata": {},
   "outputs": [],
   "source": [
    "'''\n",
    "k : {1,2,3,4},....,{1,2,3,11} needs to be passed in\n",
    "returns disj_set -> list\n",
    "'''\n",
    "def find_disjoint_sets(k):\n",
    "    disj_set = []\n",
    "    for i in range(len(set_11c4)):\n",
    "        if(set_11c4[i].isdisjoint(k)):\n",
    "            disj_set.append(set_11c4[i])\n",
    "    return disj_set\n",
    "\n",
    "'''\n",
    "THIS WAS NOT USED....\n",
    "takes in 2D list and returns a 1D list containing all the unioned elements\n",
    "'''\n",
    "def union_2D_to_1D(to_be_unioned):\n",
    "    nbhd_set_lst = []\n",
    "    merged = list(itertools.chain.from_iterable(to_be_unioned))\n",
    "    for i in range(len(merged)):\n",
    "        if merged[i] not in nbhd_set_lst:\n",
    "            nbhd_set_lst.append(merged[i])\n",
    "    return nbhd_set_lst\n",
    "\n",
    "def get_vertex_4(v3,v1=edge1[0],v2=edge1[1]):\n",
    "    vertex4=[]\n",
    "    for i in range(len(set_11c4)):\n",
    "        cond1 = len(set_11c4[i].intersection(v1)) != 0\n",
    "        cond2 = len(set_11c4[i].intersection(v2)) != 0\n",
    "        cond3 = set_11c4[i].isdisjoint(v3)\n",
    "        cond4 = set_11c4[i] != v1 and set_11c4[i] != v2 and set_11c4[i] != v3\n",
    "        if(cond1 and cond2 and cond3 and cond4):\n",
    "            vertex4.append(set_11c4[i])\n",
    "    return vertex4 \n",
    "\n",
    "def get_vertex_5(v3,v4,v1=edge1[0],v2=edge1[1]):\n",
    "    vertex5=[]\n",
    "    for i in range(len(set_11c4)):\n",
    "        cond1 = len(set_11c4[i].intersection(v1)) != 0\n",
    "        cond2 = len(set_11c4[i].intersection(v2)) != 0\n",
    "        cond3 = len(set_11c4[i].intersection(v3)) != 0\n",
    "        cond4 = len(set_11c4[i].intersection(v4)) != 0\n",
    "        cond5 = set_11c4[i] != v1 and set_11c4[i] != v2 and set_11c4[i] != v3 and set_11c4[i] != v4\n",
    "        if(cond1 and cond2 and cond3 and cond4 and cond5):\n",
    "            vertex5.append(set_11c4[i])\n",
    "    return vertex5\n",
    "\n",
    "def get_vertex_6(v3,v4,v5,v1=edge1[0],v2=edge1[1]):\n",
    "    vertex6=[]\n",
    "    for i in range(len(set_11c4)):\n",
    "        cond1 = len(set_11c4[i].intersection(v1)) != 0\n",
    "        cond2 = len(set_11c4[i].intersection(v2)) != 0\n",
    "        cond3 = len(set_11c4[i].intersection(v3)) != 0\n",
    "        cond4 = len(set_11c4[i].intersection(v4)) != 0\n",
    "        cond5 = set_11c4[i].isdisjoint(v5)\n",
    "        cond6 = set_11c4[i] != v1 and set_11c4[i] != v2 and set_11c4[i] != v3 and set_11c4[i] != v4 and set_11c4[i] != v5\n",
    "        if(cond1 and cond2 and cond3 and cond4 and cond5 and cond6):\n",
    "            vertex6.append(set_11c4[i])\n",
    "    return vertex6"
   ]
  },
  {
   "cell_type": "code",
   "execution_count": 5,
   "metadata": {},
   "outputs": [
    {
     "name": "stdout",
     "output_type": "stream",
     "text": [
      "[{1, 2, 3, 5}, {1, 2, 4, 5}, {1, 2, 5, 6}, {1, 2, 5, 7}, {8, 1, 2, 5}, {1, 2, 5, 9}, {1, 2, 10, 5}, {1, 2, 11, 5}, {1, 3, 4, 5}, {1, 3, 5, 6}, {1, 3, 5, 7}, {8, 1, 3, 5}, {1, 3, 5, 9}, {1, 10, 3, 5}, {11, 1, 3, 5}, {1, 4, 5, 6}, {1, 4, 5, 7}, {8, 1, 4, 5}, {1, 4, 5, 9}, {1, 10, 4, 5}, {1, 11, 4, 5}, {1, 5, 6, 7}, {8, 1, 5, 6}, {1, 5, 6, 9}, {1, 10, 5, 6}, {1, 11, 5, 6}, {8, 1, 5, 7}, {1, 5, 9, 7}, {1, 10, 5, 7}, {1, 11, 5, 7}, {8, 1, 5, 9}, {8, 1, 10, 5}, {8, 1, 11, 5}, {1, 10, 5, 9}, {1, 11, 5, 9}, {1, 10, 11, 5}]\n"
     ]
    }
   ],
   "source": [
    "vertex3 = []\n",
    "for i in range(len(set_11c4)):\n",
    "    if((1 in set_11c4[i]) and (5 in set_11c4[i])):\n",
    "        vertex3.append(set_11c4[i])\n",
    "print(vertex3)"
   ]
  },
  {
   "cell_type": "code",
   "execution_count": 6,
   "metadata": {},
   "outputs": [
    {
     "data": {
      "text/plain": [
       "36"
      ]
     },
     "execution_count": 6,
     "metadata": {},
     "output_type": "execute_result"
    }
   ],
   "source": [
    "len(vertex3)"
   ]
  },
  {
   "cell_type": "code",
   "execution_count": 7,
   "metadata": {},
   "outputs": [],
   "source": [
    "edge_2_vertex_pairs = []\n",
    "for i in range(len(vertex3)):\n",
    "    possible_vertex4 = get_vertex_4(vertex3[i])\n",
    "    edge_2_vertex_pairs.append((vertex3[i],possible_vertex4))"
   ]
  },
  {
   "cell_type": "code",
   "execution_count": 8,
   "metadata": {},
   "outputs": [
    {
     "name": "stdout",
     "output_type": "stream",
     "text": [
      "960\n",
      "({1, 2, 3, 5}, [{8, 4, 6, 7}, {9, 4, 6, 7}, {10, 4, 6, 7}, {11, 4, 6, 7}, {8, 9, 4, 6}, {8, 10, 4, 6}, {8, 11, 4, 6}, {9, 10, 4, 6}, {9, 11, 4, 6}, {10, 11, 4, 6}, {8, 9, 4, 7}, {8, 10, 4, 7}, {8, 11, 4, 7}, {9, 10, 4, 7}, {9, 11, 4, 7}, {10, 11, 4, 7}, {8, 9, 10, 4}, {8, 9, 11, 4}, {8, 10, 11, 4}])\n",
      "19\n"
     ]
    }
   ],
   "source": [
    "tot = 0\n",
    "for s in edge_2_vertex_pairs:\n",
    "    tot += len(s[1])\n",
    "print(tot)\n",
    "print(edge_2_vertex_pairs[0])\n",
    "print(len(edge_2_vertex_pairs[0][1]))"
   ]
  },
  {
   "cell_type": "code",
   "execution_count": 9,
   "metadata": {},
   "outputs": [],
   "source": [
    "# (edge_2_vertex_pairs[0])"
   ]
  },
  {
   "cell_type": "code",
   "execution_count": 10,
   "metadata": {},
   "outputs": [],
   "source": [
    "# edge_2_vertex_pairs has length 36. with 35 possible vertices that can be attached to it\n",
    "final = []\n",
    "for i in range(len(edge_2_vertex_pairs)):\n",
    "    tup = edge_2_vertex_pairs[i]\n",
    "    for j in range(len(tup[1])):\n",
    "        v3,v4 = tup[0], tup[1][j]\n",
    "        v5 = get_vertex_5(v3,v4)\n",
    "        for k in range(len(v5)):\n",
    "            v6 = get_vertex_6(v3,v4,v5[k])\n",
    "            final.append((set({1,2,3,4}),set({5,6,7,8}),v3,v4,v5[k],v6))"
   ]
  },
  {
   "cell_type": "code",
   "execution_count": 11,
   "metadata": {},
   "outputs": [
    {
     "name": "stdout",
     "output_type": "stream",
     "text": [
      "({1, 2, 3, 4}, {8, 5, 6, 7}, {1, 2, 3, 5}, {8, 4, 6, 7}, {1, 2, 3, 6}, [{8, 4, 5, 7}, {9, 4, 5, 7}, {10, 4, 5, 7}, {11, 4, 5, 7}, {8, 9, 4, 5}, {8, 10, 4, 5}, {8, 11, 4, 5}, {9, 10, 4, 5}, {9, 11, 4, 5}, {10, 11, 4, 5}])\n",
      "4306968\n"
     ]
    }
   ],
   "source": [
    "print(final[0])\n",
    "tot = 0\n",
    "for s in final:\n",
    "    tot += len(s[5])\n",
    "print(tot)"
   ]
  },
  {
   "cell_type": "code",
   "execution_count": 12,
   "metadata": {},
   "outputs": [],
   "source": [
    "disj_set = []\n",
    "j = 3\n",
    "for a in range(len(final[j][5])):\n",
    "    for i in range(len(set_11c4)):\n",
    "        cond1 = (set_11c4[i].isdisjoint(final[j][0]))\n",
    "        cond2 = (set_11c4[i].isdisjoint(final[j][1]))\n",
    "        cond3 = (set_11c4[i].isdisjoint(final[j][2]))\n",
    "        cond4 = (set_11c4[i].isdisjoint(final[j][3]))\n",
    "        cond5 = (set_11c4[i].isdisjoint(final[j][4]))\n",
    "        cond6 = (set_11c4[i].isdisjoint(final[j][5][a]))\n",
    "        if(cond1 or cond2 or cond3 or cond4 or cond5 or cond6  ):\n",
    "            disj_set.append(set_11c4[i])\n",
    "    break"
   ]
  },
  {
   "cell_type": "code",
   "execution_count": 13,
   "metadata": {},
   "outputs": [
    {
     "data": {
      "text/plain": [
       "137"
      ]
     },
     "execution_count": 13,
     "metadata": {},
     "output_type": "execute_result"
    }
   ],
   "source": [
    "len(disj_set)"
   ]
  },
  {
   "cell_type": "code",
   "execution_count": null,
   "metadata": {},
   "outputs": [],
   "source": []
  },
  {
   "cell_type": "code",
   "execution_count": null,
   "metadata": {},
   "outputs": [],
   "source": []
  }
 ],
 "metadata": {
  "kernelspec": {
   "display_name": "Python 3",
   "language": "python",
   "name": "python3"
  },
  "language_info": {
   "codemirror_mode": {
    "name": "ipython",
    "version": 3
   },
   "file_extension": ".py",
   "mimetype": "text/x-python",
   "name": "python",
   "nbconvert_exporter": "python",
   "pygments_lexer": "ipython3",
   "version": "3.8.2"
  }
 },
 "nbformat": 4,
 "nbformat_minor": 4
}
