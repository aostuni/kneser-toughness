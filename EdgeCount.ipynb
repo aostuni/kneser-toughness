{
 "cells": [
  {
   "cell_type": "code",
   "execution_count": null,
   "metadata": {},
   "outputs": [],
   "source": [
    "import os, re\n",
    "\n",
    "from math import ceil, floor, comb"
   ]
  },
  {
   "cell_type": "code",
   "execution_count": null,
   "metadata": {},
   "outputs": [],
   "source": [
    "def cascade(n, i):\n",
    "    a = []\n",
    "    for k in range(i, 1, -1):\n",
    "        m = 0\n",
    "        while comb(m, k) < n:\n",
    "            m += 1\n",
    "        a.append(m - 1)\n",
    "        n -= comb(m - 1, k)\n",
    "    a.append(n)\n",
    "    a.append(0)\n",
    "    a.reverse()\n",
    "    return a\n",
    "\n",
    "\n",
    "def kruskal_katona(n, i, r):\n",
    "    a = cascade(n, i)\n",
    "    s = 1\n",
    "    for k in range(i, r, -1):\n",
    "        s += comb(a[k], k - r)\n",
    "    return s"
   ]
  },
  {
   "cell_type": "code",
   "execution_count": null,
   "metadata": {},
   "outputs": [],
   "source": [
    "def partitions(n, m, minimum=1):\n",
    "    \"\"\"\n",
    "    Generator of partitions of n into m parts in lexicographic order with all parts at least minimum.\n",
    "    Modification of Algorithm H from Knuth. http://www.cs.utsa.edu/~wagner/knuth/fasc3b.pdf\n",
    "    Precondition: n >= m * minimum.\n",
    "    \"\"\"\n",
    "    if m == 0:\n",
    "        if n == 0:\n",
    "            yield []\n",
    "    elif m == 1:\n",
    "        yield [n]\n",
    "    elif m == 2:\n",
    "        for i in range(minimum, floor(n / 2) + 1):\n",
    "            yield [n - i, i]\n",
    "    else:\n",
    "        a = [n - (m - 1) * minimum]\n",
    "        for i in range(m - 1):\n",
    "            a.append(minimum)\n",
    "        while True:\n",
    "            yield a\n",
    "            while a[1] < a[0] - 1:\n",
    "                a[0] = a[0] - 1\n",
    "                a[1] = a[1] + 1\n",
    "                yield a\n",
    "            j = 2\n",
    "            s = a[0] + a[1] - 1\n",
    "            while j < m and a[j] >= a[0] - 1:\n",
    "                s += a[j]\n",
    "                j += 1\n",
    "            if j == m:\n",
    "                return\n",
    "            x = a[j] + 1\n",
    "            a[j] = x\n",
    "            j -= 1\n",
    "            for i in range(j, 0, -1):\n",
    "                a[i] = x\n",
    "                s -= x\n",
    "            a[0] = s"
   ]
  },
  {
   "cell_type": "code",
   "execution_count": null,
   "metadata": {},
   "outputs": [],
   "source": [
    "def l(p):\n",
    "    s = 0\n",
    "    for x in p:\n",
    "        s += f[x]\n",
    "    return s"
   ]
  },
  {
   "cell_type": "code",
   "execution_count": null,
   "metadata": {},
   "outputs": [],
   "source": [
    "def u(S):\n",
    "    d = comb(n - r, r)\n",
    "    return min(d * S, floor((d + comb(n - r - 1, r - 1)) * S * (comb(n, r) - S) / comb(n, r)))"
   ]
  },
  {
   "cell_type": "markdown",
   "metadata": {},
   "source": [
    "K(9,4)"
   ]
  },
  {
   "cell_type": "code",
   "execution_count": null,
   "metadata": {},
   "outputs": [],
   "source": [
    "n = 9\n",
    "r = 4\n",
    "d = 5"
   ]
  },
  {
   "cell_type": "markdown",
   "metadata": {},
   "source": [
    "From Appendix 6.1, for $6\\leq |\\mathcal{C}|\\leq 16$, we need to find lower bounds on $e(\\mathcal{C},S)$ in order to define $f_3$. Note the cases of $1\\leq |\\mathcal{C}|\\leq 5$ are already covered in Appendix 6.1.\n",
    "\n",
    "The nauty executables should be in your PATH environment variable."
   ]
  },
  {
   "cell_type": "code",
   "execution_count": null,
   "metadata": {},
   "outputs": [],
   "source": [
    "# f = [None, 5, 8, None, None, None, 18, 21, 22, 25, 26, 27, 28, 29, 28, 31, 32]\n",
    "f = [None, 5, 8, None, None, None]\n",
    "for c in range(6, 17):\n",
    "    f.append(max(int(e) for e in re.findall(r'\\d+ graphs : e=(\\d+)', os.popen('geng -CtfD5 ' + str(c) + ' | countg -g6: --e').read())))\n",
    "for c in range(17, 116):\n",
    "    f.append(ceil(2 * c * (126 - c) / 126))"
   ]
  },
  {
   "cell_type": "code",
   "execution_count": null,
   "metadata": {},
   "outputs": [],
   "source": [
    "for c in range(5, 54):\n",
    "    for S in range(c + 1, floor((n / r - 1) * c) + 1):\n",
    "        ub = u(S) # upper bound\n",
    "        # bounds on number of singletons a\n",
    "        a_low = ceil((2 * c * (d - 1) - u(S)) / (d - 2))\n",
    "        a_high = 1\n",
    "        while a_high <= c and kruskal_katona(a_high, n - r, n - 2 * r) <= S:\n",
    "            a_high += 1\n",
    "        for a in range(a_low, a_high):\n",
    "            # bounds on number of K_2s b\n",
    "            b_low = max(0, ceil((6 * c - 126 + S - 5 * a) / 4))\n",
    "            b_high = 1\n",
    "            while a + b_high <= c and a + 2 * b_high <= 126 - S and kruskal_katona(a + b_high, n - r, n - 2 * r) <= S:\n",
    "                b_high += 1\n",
    "            for b in range(b_low, b_high):\n",
    "                for p in partitions(126 - S - a - 2 * b, c - a - b, 6):\n",
    "                    if l(p) + f[2] * b + f[1] * a <= ub:\n",
    "                        print(p + [2] * b + [1] * a)"
   ]
  },
  {
   "cell_type": "markdown",
   "metadata": {},
   "source": [
    "K(10,4)"
   ]
  },
  {
   "cell_type": "code",
   "execution_count": null,
   "metadata": {},
   "outputs": [],
   "source": [
    "n = 10\n",
    "r = 4\n",
    "d = 15"
   ]
  },
  {
   "cell_type": "markdown",
   "metadata": {},
   "source": [
    "Find lower bounds on $e(\\mathcal{C},S)$."
   ]
  },
  {
   "cell_type": "code",
   "execution_count": null,
   "metadata": {},
   "outputs": [],
   "source": [
    "f = [None, 15, 28, None]\n",
    "for c in range(4, 9):\n",
    "    f.append(max(int(e) for e in re.findall(r'>C \\d+ graphs with (\\d+) edges', os.popen('geng -Ctv ' + str(c)).read())))\n",
    "print(f)"
   ]
  },
  {
   "cell_type": "markdown",
   "metadata": {},
   "source": [
    "However, $f_2$ must be non-decreasing."
   ]
  },
  {
   "cell_type": "code",
   "execution_count": null,
   "metadata": {},
   "outputs": [],
   "source": [
    "f = [None, 15, 28, None, 52, 63, 72, 72, 72]\n",
    "for c in range(9, 95):\n",
    "    f.append(ceil(9 * c * (210 - c) / 210))"
   ]
  },
  {
   "cell_type": "markdown",
   "metadata": {},
   "source": [
    "Partition algorithm from Appendix 6.2."
   ]
  },
  {
   "cell_type": "code",
   "execution_count": null,
   "metadata": {},
   "outputs": [],
   "source": [
    "for c in range(48, 71):\n",
    "    prev = []\n",
    "    S = floor((n / r - 1) * c)\n",
    "    ub = u(S)\n",
    "    a_low = ceil((2 * c * (d - 1) - u(S)) / (d - 2))\n",
    "    a_high = 1\n",
    "    while a_high <= c and kruskal_katona(a_high, n - r, n - 2 * r) <= S:\n",
    "        a_high += 1\n",
    "    for a in range(a_low, a_high):\n",
    "        b_low = max(0, ceil((4 * c - 210 + S - 3 * a) / 2))\n",
    "        b_high = 1\n",
    "        while a + b_high <= c and a + 2 * b_high <= 210 - S and kruskal_katona(a + b_high, n - r, n - 2 * r) <= S:\n",
    "            b_high += 1\n",
    "        for b in range(b_low, b_high):\n",
    "            for p in partitions(210 - S - a - 2 * b, c - a - b, 4):\n",
    "                if l(p) + f[2] * b + f[1] * a <= ub:\n",
    "                    q = p + [2] * b + [1] * a\n",
    "                    prev.append(q)\n",
    "                    print(q)\n",
    "    for S in range(floor((n / r - 1) * c) - 1, c, -1):\n",
    "        ub = u(S)\n",
    "        cur = []\n",
    "        for p in prev:\n",
    "            lb = l(p)\n",
    "            if lb + f[p[0] + 1] - f[p[0]] <= ub:\n",
    "                p[0] += 1\n",
    "                cur.append(p[:])\n",
    "                print(p)\n",
    "                p[0] -= 1\n",
    "            for i in range(1, c):\n",
    "                if p[i - 1] >= p[i] + 1 and lb + f[p[i] + 1] - f[p[i]] <= ub:\n",
    "                    p[i] += 1\n",
    "                    cur.append(p[:])\n",
    "                    print(p)\n",
    "                    p[i] -= 1\n",
    "        if (S - c) % 3 == 0 and 4 * c >= S:\n",
    "            x = (4 * c - S) // 3\n",
    "            y = (S - c) // 3\n",
    "            if f[4] * y + f[1] * x <= ub and kruskal_katona(x, n - r, n - 2 * r) <= S:\n",
    "                p = [4] * y + [1] * x\n",
    "                cur.append(p)\n",
    "                print(p)\n",
    "        prev = cur\n",
    "for c in range(71, 76):\n",
    "    for S in range(c + 1, floor((n / r - 1) * c) + 1):\n",
    "        ub = u(S)\n",
    "        a_low = ceil((2 * c * (d - 1) - u(S)) / (d - 2))\n",
    "        a_high = 1\n",
    "        while a_high <= c and kruskal_katona(a_high, n - r, n - 2 * r) <= S:\n",
    "            a_high += 1\n",
    "        for a in range(a_low, a_high):\n",
    "            b_low = max(0, ceil((4 * c - 210 + S - 3 * a) / 2))\n",
    "            b_high = 1\n",
    "            while a + b_high <= c and a + 2 * b_high <= 210 - S and kruskal_katona(a + b_high, n - r, n - 2 * r) <= S:\n",
    "                b_high += 1\n",
    "            for b in range(b_low, b_high):\n",
    "                for p in partitions(210 - S - a - 2 * b, c - a - b, 4):\n",
    "                    if l(p) + f[2] * b + f[1] * a <= ub:\n",
    "                        q = p + [2] * b + [1] * a\n",
    "                        prev.append(q)\n",
    "                        print(q)"
   ]
  },
  {
   "cell_type": "code",
   "execution_count": null,
   "metadata": {},
   "outputs": [],
   "source": []
  }
 ],
 "metadata": {
  "kernelspec": {
   "display_name": "Python 3",
   "language": "python",
   "name": "python3"
  },
  "language_info": {
   "codemirror_mode": {
    "name": "ipython",
    "version": 3
   },
   "file_extension": ".py",
   "mimetype": "text/x-python",
   "name": "python",
   "nbconvert_exporter": "python",
   "pygments_lexer": "ipython3",
   "version": "3.8.5"
  }
 },
 "nbformat": 4,
 "nbformat_minor": 4
}
