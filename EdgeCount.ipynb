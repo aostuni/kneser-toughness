{
 "cells": [
  {
   "cell_type": "markdown",
   "metadata": {},
   "source": [
    "# Kneser Toughness Computations"
   ]
  },
  {
   "cell_type": "markdown",
   "metadata": {},
   "source": [
    "The following notebook is used to assist in the determination of the toughness of Kneser graphs $K(9,4), K(10,4),$ and $K(7,3)$."
   ]
  },
  {
   "cell_type": "code",
   "execution_count": 12,
   "metadata": {},
   "outputs": [],
   "source": [
    "import os, re\n",
    "from math import ceil, floor, comb"
   ]
  },
  {
   "cell_type": "markdown",
   "metadata": {},
   "source": [
    "We begin with an implementation of the Kruskal-Katona theorem, in order to calculate the lower bound on the neighborhood of a vertex set."
   ]
  },
  {
   "cell_type": "code",
   "execution_count": 13,
   "metadata": {},
   "outputs": [],
   "source": [
    "def cascade(n, i):\n",
    "    a = []\n",
    "    for k in range(i, 1, -1):\n",
    "        m = 0\n",
    "        while comb(m, k) < n:\n",
    "            m += 1\n",
    "        a.append(m - 1)\n",
    "        n -= comb(m - 1, k)\n",
    "    a.append(n)\n",
    "    a.append(0)\n",
    "    a.reverse()\n",
    "    return a\n",
    "\n",
    "\n",
    "def kruskal_katona(n, i, r):\n",
    "    a = cascade(n, i)\n",
    "    s = 1\n",
    "    for k in range(i, r, -1):\n",
    "        s += comb(a[k], k - r)\n",
    "    return s"
   ]
  },
  {
   "cell_type": "markdown",
   "metadata": {},
   "source": [
    "We next require an function to generator the number of partitions of $n$ into $m$ parts in lexicographic order with all parts at least some minimum size $\\phi$. The following is a modification of Algorithm H from Knuth's *The Art of Computer Programming, Volume 4A*. As a precondition, it requires $n \\ge m\\phi$."
   ]
  },
  {
   "cell_type": "code",
   "execution_count": 14,
   "metadata": {},
   "outputs": [],
   "source": [
    "def partitions(n, m, minimum=1):\n",
    "    if m == 0:\n",
    "        if n == 0:\n",
    "            yield []\n",
    "    elif m == 1:\n",
    "        yield [n]\n",
    "    elif m == 2:\n",
    "        for i in range(minimum, floor(n / 2) + 1):\n",
    "            yield [n - i, i]\n",
    "    else:\n",
    "        a = [n - (m - 1) * minimum]\n",
    "        for i in range(m - 1):\n",
    "            a.append(minimum)\n",
    "        while True:\n",
    "            yield a\n",
    "            while a[1] < a[0] - 1:\n",
    "                a[0] = a[0] - 1\n",
    "                a[1] = a[1] + 1\n",
    "                yield a\n",
    "            j = 2\n",
    "            s = a[0] + a[1] - 1\n",
    "            while j < m and a[j] >= a[0] - 1:\n",
    "                s += a[j]\n",
    "                j += 1\n",
    "            if j == m:\n",
    "                return\n",
    "            x = a[j] + 1\n",
    "            a[j] = x\n",
    "            j -= 1\n",
    "            for i in range(j, 0, -1):\n",
    "                a[i] = x\n",
    "                s -= x\n",
    "            a[0] = s"
   ]
  },
  {
   "cell_type": "markdown",
   "metadata": {
    "pycharm": {
     "name": "#%% md\n"
    }
   },
   "source": [
    "The following function determines the lower bound of $e(K(n,k)\\setminus S, S)$ for a given partition $p$ of the $|K(n,k)\\setminus S|$ vertices into $c$ components."
   ]
  },
  {
   "cell_type": "code",
   "execution_count": 15,
   "metadata": {},
   "outputs": [],
   "source": [
    "def l(f, p):\n",
    "    s = 0\n",
    "    for x in p:\n",
    "        s += f[x]\n",
    "    return s"
   ]
  },
  {
   "cell_type": "markdown",
   "metadata": {},
   "source": [
    "The next function searches for the partitions for some $K(n,k)$ and a value of $c$. Let $G$, $d$, and $g$ denote the size, degree, and girth of $K(n,k)$ respectively. Also, let $a$ and $b$ are the number of singletons and $K_2$'s in $K(n,k)\\setminus S$. The algorithm is described in Section 6.2."
   ]
  },
  {
   "cell_type": "code",
   "execution_count": 16,
   "metadata": {},
   "outputs": [],
   "source": [
    "def search(n, k, f, c):\n",
    "    G = comb(n, k)\n",
    "    d = comb(n - k, k)\n",
    "    g = min(1 + 2 * ceil(k / (n - 2 * k)), 6 if n == 2 * k + 1 else 4)\n",
    "    for S in range(c + 1, floor((n / k - 1) * c) + 1):\n",
    "        u = min(d * S, floor((d + comb(n - k - 1, k - 1)) * S * (comb(n, k) - S) / comb(n, k))) # upper bound\n",
    "        a_low = ceil((2 * c * (d - 1) - u) / (d - 2))\n",
    "        a_high = 1\n",
    "        while a_high <= c and kruskal_katona(a_high, n - k, n - 2 * k) <= S:\n",
    "            a_high += 1\n",
    "        for a in range(a_low, a_high):\n",
    "            b_low = max(0, ceil((g * c - G + S + (1 - g) * a) / (g - 2)))\n",
    "            b_high = 1\n",
    "            while a + b_high <= c and a + 2 * b_high <= G - S and kruskal_katona(a + b_high, n - k, n - 2 * k) - b_high <= S:\n",
    "                b_high += 1\n",
    "            for b in range(b_low, b_high):\n",
    "                for p in partitions(G - S - a - 2 * b, c - a - b, g):\n",
    "                    if l(f, p) + f[2] * b + f[1] * a <= u:\n",
    "                        print(p + [2] * b + [1] * a)"
   ]
  },
  {
   "cell_type": "markdown",
   "metadata": {},
   "source": [
    "We'll now focus on $K(9,4)$. From Appendix 6.1, for $6\\leq |\\mathcal{C}|\\leq 16$, we need to find lower bounds on $e(\\mathcal{C},S)$ in order to define $f_3$. Note the cases of $1\\leq |\\mathcal{C}|\\leq 5$ are already covered in that appendix."
   ]
  },
  {
   "cell_type": "markdown",
   "metadata": {
    "pycharm": {
     "name": "#%% md\n"
    }
   },
   "source": [
    "In order to use the nauty program, follow the download and instellation process found at http://pallini.di.uniroma1.it/. Set up the program such that the executables are in your PATH environment variable. Then the following code will produce lower bounds for $e(\\mathcal{C},S)$."
   ]
  },
  {
   "cell_type": "code",
   "execution_count": 17,
   "metadata": {},
   "outputs": [
    {
     "ename": "ValueError",
     "evalue": "max() arg is an empty sequence",
     "output_type": "error",
     "traceback": [
      "\u001b[0;31m---------------------------------------------------------------------------\u001b[0m",
      "\u001b[0;31mValueError\u001b[0m                                Traceback (most recent call last)",
      "\u001b[0;32m<ipython-input-17-396138e33318>\u001b[0m in \u001b[0;36m<module>\u001b[0;34m\u001b[0m\n\u001b[1;32m      1\u001b[0m \u001b[0mf\u001b[0m \u001b[0;34m=\u001b[0m \u001b[0;34m[\u001b[0m\u001b[0;32mNone\u001b[0m\u001b[0;34m,\u001b[0m \u001b[0;36m5\u001b[0m\u001b[0;34m,\u001b[0m \u001b[0;36m8\u001b[0m\u001b[0;34m,\u001b[0m \u001b[0;32mNone\u001b[0m\u001b[0;34m,\u001b[0m \u001b[0;32mNone\u001b[0m\u001b[0;34m,\u001b[0m \u001b[0;32mNone\u001b[0m\u001b[0;34m]\u001b[0m\u001b[0;34m\u001b[0m\u001b[0;34m\u001b[0m\u001b[0m\n\u001b[1;32m      2\u001b[0m \u001b[0;32mfor\u001b[0m \u001b[0mc\u001b[0m \u001b[0;32min\u001b[0m \u001b[0mrange\u001b[0m\u001b[0;34m(\u001b[0m\u001b[0;36m6\u001b[0m\u001b[0;34m,\u001b[0m \u001b[0;36m17\u001b[0m\u001b[0;34m)\u001b[0m\u001b[0;34m:\u001b[0m\u001b[0;34m\u001b[0m\u001b[0;34m\u001b[0m\u001b[0m\n\u001b[0;32m----> 3\u001b[0;31m     \u001b[0mf\u001b[0m\u001b[0;34m.\u001b[0m\u001b[0mappend\u001b[0m\u001b[0;34m(\u001b[0m\u001b[0mmax\u001b[0m\u001b[0;34m(\u001b[0m\u001b[0mint\u001b[0m\u001b[0;34m(\u001b[0m\u001b[0me\u001b[0m\u001b[0;34m)\u001b[0m \u001b[0;32mfor\u001b[0m \u001b[0me\u001b[0m \u001b[0;32min\u001b[0m \u001b[0mre\u001b[0m\u001b[0;34m.\u001b[0m\u001b[0mfindall\u001b[0m\u001b[0;34m(\u001b[0m\u001b[0;34mr'\\d+ graphs : e=(\\d+)'\u001b[0m\u001b[0;34m,\u001b[0m \u001b[0mos\u001b[0m\u001b[0;34m.\u001b[0m\u001b[0mpopen\u001b[0m\u001b[0;34m(\u001b[0m\u001b[0;34m'geng -CtfD5 '\u001b[0m \u001b[0;34m+\u001b[0m \u001b[0mstr\u001b[0m\u001b[0;34m(\u001b[0m\u001b[0mc\u001b[0m\u001b[0;34m)\u001b[0m \u001b[0;34m+\u001b[0m \u001b[0;34m' | countg -g6: --e'\u001b[0m\u001b[0;34m)\u001b[0m\u001b[0;34m.\u001b[0m\u001b[0mread\u001b[0m\u001b[0;34m(\u001b[0m\u001b[0;34m)\u001b[0m\u001b[0;34m)\u001b[0m\u001b[0;34m)\u001b[0m\u001b[0;34m)\u001b[0m\u001b[0;34m\u001b[0m\u001b[0;34m\u001b[0m\u001b[0m\n\u001b[0m\u001b[1;32m      4\u001b[0m \u001b[0;32mfor\u001b[0m \u001b[0mc\u001b[0m \u001b[0;32min\u001b[0m \u001b[0mrange\u001b[0m\u001b[0;34m(\u001b[0m\u001b[0;36m17\u001b[0m\u001b[0;34m,\u001b[0m \u001b[0;36m116\u001b[0m\u001b[0;34m)\u001b[0m\u001b[0;34m:\u001b[0m\u001b[0;34m\u001b[0m\u001b[0;34m\u001b[0m\u001b[0m\n\u001b[1;32m      5\u001b[0m     \u001b[0mf\u001b[0m\u001b[0;34m.\u001b[0m\u001b[0mappend\u001b[0m\u001b[0;34m(\u001b[0m\u001b[0mceil\u001b[0m\u001b[0;34m(\u001b[0m\u001b[0;36m2\u001b[0m \u001b[0;34m*\u001b[0m \u001b[0mc\u001b[0m \u001b[0;34m*\u001b[0m \u001b[0;34m(\u001b[0m\u001b[0;36m126\u001b[0m \u001b[0;34m-\u001b[0m \u001b[0mc\u001b[0m\u001b[0;34m)\u001b[0m \u001b[0;34m/\u001b[0m \u001b[0;36m126\u001b[0m\u001b[0;34m)\u001b[0m\u001b[0;34m)\u001b[0m\u001b[0;34m\u001b[0m\u001b[0;34m\u001b[0m\u001b[0m\n",
      "\u001b[0;31mValueError\u001b[0m: max() arg is an empty sequence"
     ]
    }
   ],
   "source": [
    "f = [None, 5, 8, None, None, None]\n",
    "for c in range(6, 17):\n",
    "    f.append(max(int(e) for e in re.findall(r'\\d+ graphs : e=(\\d+)', os.popen('geng -CtfD5 ' + str(c) + ' | countg -g6: --e').read())))\n",
    "for c in range(17, 116):\n",
    "    f.append(ceil(2 * c * (126 - c) / 126))"
   ]
  },
  {
   "cell_type": "markdown",
   "metadata": {},
   "source": [
    "Alternatively, if nauty is not installed, initialize $f_3$ with hard coded values."
   ]
  },
  {
   "cell_type": "code",
   "execution_count": null,
   "metadata": {},
   "outputs": [],
   "source": [
    "f = [None, 5, 8, None, None, None, 18, 21, 22, 25, 26, 27, 28, 29, 28, 31, 32]\n",
    "for c in range(17, 116):\n",
    "    f.append(ceil(2 * c * (126 - c) / 126))"
   ]
  },
  {
   "cell_type": "markdown",
   "metadata": {},
   "source": [
    "Checking all possible partitions using the algorithm described in Section 6.2, we find no such partitions, yielding a contradiction."
   ]
  },
  {
   "cell_type": "code",
   "execution_count": null,
   "metadata": {},
   "outputs": [],
   "source": [
    "for c in range(5, 54):\n",
    "    search(9, 4, f, c)"
   ]
  },
  {
   "cell_type": "markdown",
   "metadata": {},
   "source": [
    "We'll next focus on $K(10,4)$ and follow the same process. We use nauty to obtain lower bounds on $e(\\mathcal{C},S)$."
   ]
  },
  {
   "cell_type": "code",
   "execution_count": null,
   "metadata": {
    "pycharm": {
     "name": "#%%\n"
    }
   },
   "outputs": [],
   "source": [
    "f = [None, 15, 28, None]\n",
    "for c in range(4, 9):\n",
    "    f.append(max(int(e) for e in re.findall(r'>C \\d+ graphs with (\\d+) edges', os.popen('geng -Ctv ' + str(c)).read())))\n",
    "for c in range(9, 95):\n",
    "    f.append(ceil(9 * c * (210 - c) / 210))"
   ]
  },
  {
   "cell_type": "markdown",
   "metadata": {
    "pycharm": {
     "name": "#%% md\n"
    }
   },
   "source": [
    "Alternatively, the hard coded values of $f_2$ are as follows."
   ]
  },
  {
   "cell_type": "code",
   "execution_count": null,
   "metadata": {
    "pycharm": {
     "name": "#%%\n"
    }
   },
   "outputs": [],
   "source": [
    "f = [None, 15, 28, None, 63, 72, 81, 88]\n",
    "for c in range(9, 115):\n",
    "    f.append(ceil(9 * c * (210 - c) / 210))"
   ]
  },
  {
   "cell_type": "markdown",
   "metadata": {},
   "source": [
    "Once again, the partition algorithm from Section 6.2 finds no valid partitions, yielding a contradiction."
   ]
  },
  {
   "cell_type": "code",
   "execution_count": null,
   "metadata": {
    "pycharm": {
     "name": "#%%\n"
    }
   },
   "outputs": [],
   "source": [
    "for c in range(48, 76):\n",
    "    search(10, 4, f, c)"
   ]
  },
  {
   "cell_type": "markdown",
   "metadata": {},
   "source": [
    "Finally, we'll focus on $K(7,3)$. The values of $f_3$ are below."
   ]
  },
  {
   "cell_type": "code",
   "execution_count": null,
   "metadata": {
    "pycharm": {
     "name": "#%%\n"
    }
   },
   "outputs": [],
   "source": [
    "f = [None, 4, 6, None, None, None, 12, 14]\n",
    "for c in range(8, 26):\n",
    "    f.append(ceil(2 * c * (35 - c) / 35))"
   ]
  },
  {
   "cell_type": "markdown",
   "metadata": {},
   "source": [
    "Again, there are no valid partitions, yielding a contradiction."
   ]
  },
  {
   "cell_type": "code",
   "execution_count": null,
   "metadata": {
    "pycharm": {
     "name": "#%%\n"
    }
   },
   "outputs": [],
   "source": [
    "for c in range(5, 14):\n",
    "    search(7, 3, f, c)"
   ]
  }
 ],
 "metadata": {
  "kernelspec": {
   "display_name": "Python 3",
   "language": "python",
   "name": "python3"
  },
  "language_info": {
   "codemirror_mode": {
    "name": "ipython",
    "version": 3
   },
   "file_extension": ".py",
   "mimetype": "text/x-python",
   "name": "python",
   "nbconvert_exporter": "python",
   "pygments_lexer": "ipython3",
   "version": "3.8.3"
  }
 },
 "nbformat": 4,
 "nbformat_minor": 4
}
