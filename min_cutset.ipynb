{
 "cells": [
  {
   "cell_type": "code",
   "execution_count": 22,
   "metadata": {},
   "outputs": [],
   "source": [
    "import itertools"
   ]
  },
  {
   "cell_type": "code",
   "execution_count": 40,
   "metadata": {},
   "outputs": [],
   "source": [
    "n = 9\n",
    "r = 4\n",
    "\n",
    "map = [set(v) for v in itertools.combinations(range(1, n + 1), r)] # map between vertices (integers between 0 and |G|-1) and actual sets\n",
    "v1 = map.index({i for i in range(1, r + 1)})\n",
    "v2 = map.index({i for i in range(r + 1, 2 * r + 1)})\n",
    "size = len(map)\n",
    "\n",
    "G = [[False] * size for i in range(size)] # Kneser graph as an adjacency matrix\n",
    "disjoint = [set() for i in range(size)] # for each vertex v, gives the neighborhood of v\n",
    "intersecting = [set() for i in range(size)] # for each vertex v, gives list of vertices not in neighborhood of v\n",
    "\n",
    "for i in range(size):\n",
    "    for j in range(i + 1, size):\n",
    "        if map[i].isdisjoint(map[j]):\n",
    "            G[i][j] = True\n",
    "            G[j][i] = True\n",
    "            disjoint[i].add(j)\n",
    "            disjoint[j].add(i)\n",
    "        else:\n",
    "            intersecting[i].add(j)\n",
    "            intersecting[j].add(i)"
   ]
  },
  {
   "cell_type": "code",
   "execution_count": 41,
   "metadata": {},
   "outputs": [
    {
     "name": "stdout",
     "output_type": "stream",
     "text": [
      "|V(G)| = 126\n",
      "|E(G)| = 315\n",
      "|d(G)| = 5\n"
     ]
    }
   ],
   "source": [
    "print(\"|V(G)| = \" + str(len(G)))\n",
    "tot = 0\n",
    "for i in range(size):\n",
    "    tot += len(disjoint[i])\n",
    "print(\"|E(G)| = \" + str(tot // 2))\n",
    "print(\"|d(G)| = \" + str(len(disjoint[0])))"
   ]
  },
  {
   "cell_type": "code",
   "execution_count": 42,
   "metadata": {},
   "outputs": [],
   "source": [
    "def add_singleton(g):\n",
    "    \"\"\"\n",
    "    Returns set of all possible singleton additions, where the singleton is connected to g.\n",
    "    g must be a sorted tuple of vertices in G.\n",
    "    g represents the graph of edges/singletons we're building up.\n",
    "    \"\"\"\n",
    "    a = intersecting[g[0]] & intersecting[g[1]]\n",
    "    for i in range(2, len(g)):\n",
    "        a &= intersecting[g[i]]\n",
    "    return set(tuple(sorted(list(g) + [v])) for v in a)\n",
    "\n",
    "def add_edge(g):\n",
    "    \"\"\"\n",
    "    Returns set of all possible edge additions, where the edge is not connected to g.\n",
    "    g must be a sorted tuple of vertices in G.\n",
    "    g represents the graph of edges/singletons we're building up.\n",
    "    \"\"\"\n",
    "    result = set()\n",
    "    a = intersecting[g[0]] & intersecting[g[1]]\n",
    "    for i in range(2, len(g)):\n",
    "        a &= intersecting[g[i]]\n",
    "    for v in a:\n",
    "        for w in a:\n",
    "            if v < w and G[v][w]:\n",
    "                result.add(tuple(sorted(list(g) + [v, w])))\n",
    "    return result"
   ]
  },
  {
   "cell_type": "code",
   "execution_count": 43,
   "metadata": {},
   "outputs": [],
   "source": [
    "def min_cutset_size(g):\n",
    "    \"\"\"\n",
    "    Returns \"minimum size cutset\" must be if Kneser graph is disconnected to g.\n",
    "    Calculates the union of all neighborhoods of vertices in g.\n",
    "    g must be a tuple of vertices in G.\n",
    "    \"\"\"\n",
    "    cutset = disjoint[g[0]].union(disjoint[g[1]])\n",
    "    for i in range(2, len(g)):\n",
    "        cutset = cutset.union(disjoint[g[i]])\n",
    "    return len(cutset - set(g))"
   ]
  },
  {
   "cell_type": "code",
   "execution_count": 44,
   "metadata": {},
   "outputs": [
    {
     "name": "stdout",
     "output_type": "stream",
     "text": [
      "99\n",
      "14\n"
     ]
    }
   ],
   "source": [
    "edge_1 = {(v1, v2)} # possibilities with one edge\n",
    "\n",
    "edge_2 = set() # possibilities with two edges\n",
    "for h in add_edge((v1, v2)):\n",
    "    # We can assume WLOG that one of the vertices of the second edge contains 1,5.\n",
    "    flag = False\n",
    "    for v in h:\n",
    "        if 1 in map[v] and r + 1 in map[v]:\n",
    "            flag = True\n",
    "    if flag:\n",
    "        edge_2.add(h)\n",
    "\n",
    "print(len(edge_2))\n",
    "\n",
    "min_c = size\n",
    "min_g = None\n",
    "for g in edge_2:\n",
    "    c = min_cutset_size(g)\n",
    "    if c < min_c:\n",
    "        min_c = c\n",
    "        min_g = g\n",
    "print(min_c)"
   ]
  },
  {
   "cell_type": "code",
   "execution_count": 45,
   "metadata": {},
   "outputs": [
    {
     "name": "stdout",
     "output_type": "stream",
     "text": [
      "6\n",
      "14\n"
     ]
    }
   ],
   "source": [
    "# better edge_2 from casework by hand\n",
    "data = {\n",
    "    (1, 5, 9, 10): [(2, 3, 6, 11), (2, 3, 4, 6), (2, 3, 6, 7)],\n",
    "    (1, 2, 5, 9): [(3, 6, 10, 11), (3, 4, 6, 10), (3, 6, 7, 10), (3, 4, 6, 7), (3, 6, 7, 8)],\n",
    "    (1, 2, 3, 5): [(4, 6, 9, 10), (4, 6, 7, 9), (4, 6, 7, 8)],\n",
    "    (1, 2, 5, 6): [(3, 7, 9, 10), (3, 4, 7, 9), (3, 4, 7, 8)]\n",
    "}\n",
    "\n",
    "edge_2 = set()\n",
    "for a, bl in data.items():\n",
    "    for b in bl:\n",
    "        flag = True\n",
    "        for i in a:\n",
    "            if i > n:\n",
    "                flag = False\n",
    "        for i in b:\n",
    "            if i > n:\n",
    "                flag = False\n",
    "        if flag:\n",
    "            edge_2.add((v1, v2, map.index(set(a)), map.index(set(b))))\n",
    "\n",
    "print(len(edge_2))\n",
    "        \n",
    "min_c = size\n",
    "for g in edge_2:\n",
    "    min_c = min(min_c, min_cutset_size(g))\n",
    "print(min_c)"
   ]
  },
  {
   "cell_type": "code",
   "execution_count": 46,
   "metadata": {},
   "outputs": [
    {
     "name": "stdout",
     "output_type": "stream",
     "text": [
      "1418\n",
      "19\n"
     ]
    }
   ],
   "source": [
    "edge_3 = set() # possibilities with three edges\n",
    "for g in edge_2:\n",
    "    for h in add_edge(g):\n",
    "        edge_3.add(h)\n",
    "\n",
    "print(len(edge_3))\n",
    "\n",
    "min_c = size\n",
    "for g in edge_3:\n",
    "    min_c = min(min_c, min_cutset_size(g))\n",
    "print(min_c)"
   ]
  },
  {
   "cell_type": "code",
   "execution_count": 47,
   "metadata": {},
   "outputs": [
    {
     "name": "stdout",
     "output_type": "stream",
     "text": [
      "144162\n",
      "23\n"
     ]
    }
   ],
   "source": [
    "edge_4 = set() # possibilities with four edges\n",
    "for g in edge_3:\n",
    "    for h in add_edge(g):\n",
    "        edge_4.add(h)\n",
    "\n",
    "print(len(edge_4))\n",
    "\n",
    "min_c = size\n",
    "for g in edge_4:\n",
    "    min_c = min(min_c, min_cutset_size(g))\n",
    "print(min_c)"
   ]
  },
  {
   "cell_type": "code",
   "execution_count": 31,
   "metadata": {},
   "outputs": [
    {
     "name": "stdout",
     "output_type": "stream",
     "text": [
      "8356726\n",
      "26\n"
     ]
    }
   ],
   "source": [
    "edge_5 = set() # possibilities with five edges\n",
    "for g in edge_4:\n",
    "    for h in add_edge(g):\n",
    "        edge_5.add(h)\n",
    "\n",
    "print(len(edge_5))\n",
    "\n",
    "min_c = size\n",
    "for g in edge_5:\n",
    "    min_c = min(min_c, min_cutset_size(g))\n",
    "print(min_c)"
   ]
  },
  {
   "cell_type": "code",
   "execution_count": 48,
   "metadata": {},
   "outputs": [
    {
     "name": "stdout",
     "output_type": "stream",
     "text": [
      "640\n",
      "17\n"
     ]
    }
   ],
   "source": [
    "edge_2_single_1 = set() # two edges and a singleton\n",
    "for g in edge_2:\n",
    "    for h in add_singleton(g):\n",
    "        edge_2_single_1.add(h)\n",
    "\n",
    "print(len(edge_2_single_1))\n",
    "\n",
    "min_c = size\n",
    "for g in edge_2_single_1:\n",
    "    min_c = min(min_c, min_cutset_size(g))\n",
    "print(min_c)"
   ]
  },
  {
   "cell_type": "code",
   "execution_count": 49,
   "metadata": {},
   "outputs": [
    {
     "name": "stdout",
     "output_type": "stream",
     "text": [
      "138376\n",
      "21\n"
     ]
    }
   ],
   "source": [
    "edge_3_single_1 = set() # three edges and a singleton\n",
    "for g in edge_3:\n",
    "    for h in add_singleton(g):\n",
    "        edge_3_single_1.add(h)\n",
    "\n",
    "print(len(edge_3_single_1))\n",
    "            \n",
    "min_c = size\n",
    "for g in edge_3_single_1:\n",
    "    min_c = min(min_c, min_cutset_size(g))\n",
    "print(min_c)"
   ]
  }
 ],
 "metadata": {
  "kernelspec": {
   "display_name": "Python 3",
   "language": "python",
   "name": "python3"
  },
  "language_info": {
   "codemirror_mode": {
    "name": "ipython",
    "version": 3
   },
   "file_extension": ".py",
   "mimetype": "text/x-python",
   "name": "python",
   "nbconvert_exporter": "python",
   "pygments_lexer": "ipython3",
   "version": "3.8.2"
  }
 },
 "nbformat": 4,
 "nbformat_minor": 4
}
