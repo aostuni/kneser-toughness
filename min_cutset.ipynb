{
 "cells": [
  {
   "cell_type": "code",
   "execution_count": 97,
   "metadata": {},
   "outputs": [],
   "source": [
    "import itertools"
   ]
  },
  {
   "cell_type": "code",
   "execution_count": 123,
   "metadata": {},
   "outputs": [],
   "source": [
    "V = list(itertools.combinations(range(1, 12), 4)) # list of vertices, each vertex being a tuple of four numbers such as (1, 2, 3, 4)\n",
    "G = {v:{} for v in V} # The Kneser graph as an adjacency matrix implemented with dictionaries: G[u][v] is True if and only if u <-> v is an edge.\n",
    "disjoint_table = {v:set() for v in V} # For each vertex v, returns the neighborhood of v as a set.\n",
    "intersect_table = {v:set() for v in V} # For each vertex v, returns all vertices with no edge with v.\n",
    "\n",
    "for i in range(len(V)):\n",
    "    for j in range(i+1, len(V)):\n",
    "        v = V[i]\n",
    "        w = V[j]\n",
    "        if set(v).isdisjoint(set(w)):\n",
    "            G[v][w] = True\n",
    "            G[w][v] = True\n",
    "            disjoint_table[v].add(w)\n",
    "            disjoint_table[w].add(v)\n",
    "        else:\n",
    "            G[v][w] = False\n",
    "            G[w][v] = False\n",
    "            intersect_table[v].add(w)\n",
    "            intersect_table[w].add(v)"
   ]
  },
  {
   "cell_type": "code",
   "execution_count": 130,
   "metadata": {},
   "outputs": [
    {
     "name": "stdout",
     "output_type": "stream",
     "text": [
      "|V(G)| = 330\n",
      "|E(G)| = 5775\n",
      "|d(G)| = 35\n"
     ]
    }
   ],
   "source": [
    "print(\"|V(G)| = \" + str(len(V)))\n",
    "tot = 0\n",
    "for v, l in disjoint_table.items():\n",
    "    tot += len(l)\n",
    "print(\"|E(G)| = \" + str(tot // 2))\n",
    "print(\"|d(G)| = \" + str(len(disjoint_table[(1,2,3,4)])))"
   ]
  },
  {
   "cell_type": "code",
   "execution_count": 124,
   "metadata": {},
   "outputs": [],
   "source": [
    "def add_edge(g):\n",
    "    \"\"\"\n",
    "    Adds another edge to g that is disjoint from everything in g.\n",
    "    Returns set of all possible edge additions.\n",
    "    g must be a tuple of vertices in G.\n",
    "    g represents the graph of edges/singletons we're building up.\n",
    "    \"\"\"\n",
    "    result = set()\n",
    "    a = intersect_table[g[0]]\n",
    "    for i in range(1, len(g)):\n",
    "        a &= intersect_table[g[i]]\n",
    "    for v in a:\n",
    "        for w in a:\n",
    "            if v != w and G[v][w]:\n",
    "                result.add(tuple(list(g) + [v, w]))\n",
    "    return result"
   ]
  },
  {
   "cell_type": "code",
   "execution_count": 125,
   "metadata": {},
   "outputs": [],
   "source": [
    "for (u, v, w, x) in add_edge(((1,2,3,4), (5,6,7,8))):\n",
    "    assert G[u][v] and G[w][x] and not G[u][w] and not G[u][x] and not G[v][w] and not G[v][x]"
   ]
  },
  {
   "cell_type": "code",
   "execution_count": 126,
   "metadata": {},
   "outputs": [
    {
     "name": "stdout",
     "output_type": "stream",
     "text": [
      "960\n",
      "19\n"
     ]
    }
   ],
   "source": [
    "edge_one = {((1,2,3,4), (5,6,7,8))} # possibilities with one edge\n",
    "edge_two = set() # possibilities with two edges\n",
    "# We can assume WLOG that one of the vertices of the second edge contains 1,5.\n",
    "for h in add_edge(((1,2,3,4), (5,6,7,8))):\n",
    "    if 1 in h[2] and 5 in h[2]:\n",
    "        edge_two.add(h)\n",
    "\n",
    "print(len(edge_two))\n",
    "tot = 0\n",
    "for g in edge_two:\n",
    "    if g[2] == (1, 2, 3, 5):\n",
    "        tot += 1\n",
    "print(tot)"
   ]
  },
  {
   "cell_type": "code",
   "execution_count": 127,
   "metadata": {},
   "outputs": [
    {
     "name": "stdout",
     "output_type": "stream",
     "text": [
      "14582\n"
     ]
    }
   ],
   "source": [
    "edge_three = set()\n",
    "for g in edge_two:\n",
    "    for h in add_edge(g):\n",
    "        edge_three.add(h)\n",
    "\n",
    "print(len(edge_three))"
   ]
  },
  {
   "cell_type": "code",
   "execution_count": 128,
   "metadata": {},
   "outputs": [],
   "source": [
    "def min_cutset_size(g):\n",
    "    \"\"\"\n",
    "    Returns \"minimum size cutset\" must be if Kneser graph is disconnected to g.\n",
    "    Calculates the union of all neighborhoods of vertices in g.\n",
    "    g must be a tuple of vertices in G.\n",
    "    \"\"\"\n",
    "    cutset = disjoint_table[g[0]]\n",
    "    for i in range(1, len(g)):\n",
    "        cutset = cutset.union(disjoint_table[g[i]])\n",
    "    for v in g:\n",
    "        if v in cutset:\n",
    "            cutset.remove(v)\n",
    "    return len(cutset)"
   ]
  },
  {
   "cell_type": "code",
   "execution_count": 129,
   "metadata": {},
   "outputs": [
    {
     "name": "stdout",
     "output_type": "stream",
     "text": [
      "131\n"
     ]
    }
   ],
   "source": [
    "min_c = 330\n",
    "for g in edge_three:\n",
    "    min_c = min(min_c, min_cutset_size(g))\n",
    "print(min_c)"
   ]
  }
 ],
 "metadata": {
  "kernelspec": {
   "display_name": "Python 3",
   "language": "python",
   "name": "python3"
  },
  "language_info": {
   "codemirror_mode": {
    "name": "ipython",
    "version": 3
   },
   "file_extension": ".py",
   "mimetype": "text/x-python",
   "name": "python",
   "nbconvert_exporter": "python",
   "pygments_lexer": "ipython3",
   "version": "3.8.2"
  }
 },
 "nbformat": 4,
 "nbformat_minor": 4
}
