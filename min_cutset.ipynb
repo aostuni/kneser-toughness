{
 "cells": [
  {
   "cell_type": "code",
   "execution_count": 1,
   "metadata": {},
   "outputs": [],
   "source": [
    "import itertools"
   ]
  },
  {
   "cell_type": "code",
   "execution_count": 2,
   "metadata": {},
   "outputs": [],
   "source": [
    "n = 330\n",
    "\n",
    "map = [set(v) for v in itertools.combinations(range(1, 12), 4)] # map between vertices (integers between 0 and 329) and actual sets\n",
    "v1 = map.index({1,2,3,4})\n",
    "v2 = map.index({5,6,7,8})\n",
    "\n",
    "G = [[False] * n for i in range(n)] # Kneser graph as an adjacency matrix\n",
    "disjoint = [set() for i in range(n)] # for each vertex v, gives the neighborhood of v\n",
    "intersecting = [set() for i in range(n)] # for each vertex v, gives list of vertices not in neighborhood of v\n",
    "\n",
    "for i in range(n):\n",
    "    for j in range(i + 1, n):\n",
    "        if map[i].isdisjoint(map[j]):\n",
    "            G[i][j] = True\n",
    "            G[j][i] = True\n",
    "            disjoint[i].add(j)\n",
    "            disjoint[j].add(i)\n",
    "        else:\n",
    "            intersecting[i].add(j)\n",
    "            intersecting[j].add(i)"
   ]
  },
  {
   "cell_type": "code",
   "execution_count": 3,
   "metadata": {},
   "outputs": [
    {
     "name": "stdout",
     "output_type": "stream",
     "text": [
      "|V(G)| = 330\n",
      "|E(G)| = 5775\n",
      "|d(G)| = 35\n"
     ]
    }
   ],
   "source": [
    "print(\"|V(G)| = \" + str(len(G)))\n",
    "tot = 0\n",
    "for i in range(n):\n",
    "    tot += len(disjoint[i])\n",
    "print(\"|E(G)| = \" + str(tot // 2))\n",
    "print(\"|d(G)| = \" + str(len(disjoint[0])))"
   ]
  },
  {
   "cell_type": "code",
   "execution_count": 4,
   "metadata": {},
   "outputs": [],
   "source": [
    "def add_singleton(g):\n",
    "    \"\"\"\n",
    "    Returns set of all possible singleton additions, where the singleton is connected to g.\n",
    "    g must be a sorted tuple of vertices in G.\n",
    "    g represents the graph of edges/singletons we're building up.\n",
    "    \"\"\"\n",
    "    a = intersecting[g[0]]\n",
    "    for i in range(1, len(g)):\n",
    "        a &= intersecting[g[i]]\n",
    "    return set(tuple(sorted(list(g) + [v])) for v in a)\n",
    "\n",
    "def add_edge(g):\n",
    "    \"\"\"\n",
    "    Returns set of all possible edge additions, where the edge is not connected to g.\n",
    "    g must be a sorted tuple of vertices in G.\n",
    "    g represents the graph of edges/singletons we're building up.\n",
    "    \"\"\"\n",
    "    result = set()\n",
    "    a = intersecting[g[0]]\n",
    "    for i in range(1, len(g)):\n",
    "        a &= intersecting[g[i]]\n",
    "    for v in a:\n",
    "        for w in a:\n",
    "            if v < w and G[v][w]:\n",
    "                result.add(tuple(sorted(list(g) + [v, w])))\n",
    "    return result"
   ]
  },
  {
   "cell_type": "code",
   "execution_count": 5,
   "metadata": {},
   "outputs": [
    {
     "name": "stdout",
     "output_type": "stream",
     "text": [
      "294\n"
     ]
    }
   ],
   "source": [
    "print(len(add_singleton((v1,))))"
   ]
  },
  {
   "cell_type": "code",
   "execution_count": 6,
   "metadata": {},
   "outputs": [
    {
     "name": "stdout",
     "output_type": "stream",
     "text": [
      "960\n",
      "19\n"
     ]
    }
   ],
   "source": [
    "edge_1 = {(v1, v2)} # possibilities with one edge\n",
    "\n",
    "edge_2 = set() # possibilities with two edges\n",
    "for h in add_edge((v1, v2)):\n",
    "    # We can assume WLOG that one of the vertices of the second edge contains 1,5.\n",
    "    flag = False\n",
    "    for v in h:\n",
    "        if 1 in map[v] and 5 in map[v]:\n",
    "            flag = True\n",
    "    if flag:\n",
    "        edge_2.add(h)\n",
    "\n",
    "print(len(edge_2))\n",
    "tot = 0\n",
    "for g in edge_2:\n",
    "    if map.index({1,2,3,5}) in g:\n",
    "        tot += 1\n",
    "print(tot)"
   ]
  },
  {
   "cell_type": "code",
   "execution_count": 7,
   "metadata": {},
   "outputs": [
    {
     "name": "stdout",
     "output_type": "stream",
     "text": [
      "7516\n"
     ]
    }
   ],
   "source": [
    "edge_3 = set() # possibilities with three edges\n",
    "for g in edge_2:\n",
    "    for h in add_edge(g):\n",
    "        edge_3.add(h)\n",
    "\n",
    "print(len(edge_3))"
   ]
  },
  {
   "cell_type": "code",
   "execution_count": 8,
   "metadata": {},
   "outputs": [],
   "source": [
    "def min_cutset_size(g):\n",
    "    \"\"\"\n",
    "    Returns \"minimum size cutset\" must be if Kneser graph is disconnected to g.\n",
    "    Calculates the union of all neighborhoods of vertices in g.\n",
    "    g must be a tuple of vertices in G.\n",
    "    \"\"\"\n",
    "    cutset = disjoint[g[0]]\n",
    "    for i in range(1, len(g)):\n",
    "        cutset = cutset.union(disjoint[g[i]])\n",
    "    for v in g:\n",
    "        if v in cutset:\n",
    "            cutset.remove(v)\n",
    "    return len(cutset)"
   ]
  },
  {
   "cell_type": "code",
   "execution_count": 9,
   "metadata": {},
   "outputs": [
    {
     "name": "stdout",
     "output_type": "stream",
     "text": [
      "131\n"
     ]
    }
   ],
   "source": [
    "min_c = n\n",
    "for g in edge_3:\n",
    "    min_c = min(min_c, min_cutset_size(g))\n",
    "print(min_c)"
   ]
  },
  {
   "cell_type": "code",
   "execution_count": 12,
   "metadata": {},
   "outputs": [
    {
     "name": "stdout",
     "output_type": "stream",
     "text": [
      "0\n",
      "330\n"
     ]
    }
   ],
   "source": [
    "edge_3_single_1 = set()\n",
    "for g in edge_3:\n",
    "    for h in add_singleton(g):\n",
    "        edge_3_single_1.add(h)\n",
    "\n",
    "print(len(edge_3_single_1))\n",
    "\n",
    "min_c = n\n",
    "for g in edge_3_single_1:\n",
    "    min_c = min(min_c, min_cutset_size(g))\n",
    "print(min_c)"
   ]
  }
 ],
 "metadata": {
  "kernelspec": {
   "display_name": "Python 3",
   "language": "python",
   "name": "python3"
  },
  "language_info": {
   "codemirror_mode": {
    "name": "ipython",
    "version": 3
   },
   "file_extension": ".py",
   "mimetype": "text/x-python",
   "name": "python",
   "nbconvert_exporter": "python",
   "pygments_lexer": "ipython3",
   "version": "3.8.2"
  }
 },
 "nbformat": 4,
 "nbformat_minor": 4
}
